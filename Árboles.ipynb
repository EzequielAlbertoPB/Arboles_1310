{
  "nbformat": 4,
  "nbformat_minor": 0,
  "metadata": {
    "colab": {
      "name": "Árboles.ipynb",
      "provenance": []
    },
    "kernelspec": {
      "name": "python3",
      "display_name": "Python 3"
    },
    "language_info": {
      "name": "python"
    }
  },
  "cells": [
    {
      "cell_type": "code",
      "metadata": {
        "id": "kl2y_tap24ly"
      },
      "source": [
        "class NodoBinario:\n",
        "  def __init__( self , value , left=None , rigth=None ):\n",
        "    self.data = value\n",
        "    self.left = left\n",
        "    self.rigth = rigth\n",
        "\n",
        "class NodoTernario:\n",
        "  def __init__(self , value, left=None , center=None , rigth=None):\n",
        "    self.data = value\n",
        "    self.left = left\n",
        "    self.center = center\n",
        "    self.rigth = rigth\n"
      ],
      "execution_count": 1,
      "outputs": []
    },
    {
      "cell_type": "code",
      "metadata": {
        "colab": {
          "base_uri": "https://localhost:8080/"
        },
        "id": "Hf8DPSd-DAzd",
        "outputId": "d2646e9a-a50b-4a79-f019-948792ffd2e4"
      },
      "source": [
        "arbol1 = NodoBinario( \"R\" , NodoBinario(\"C\"), NodoBinario(\"H\"))\n",
        "print(arbol1.rigth.data)\n",
        "\n",
        "arbol12 = NodoTernario( 4 , NodoTernario(3 , NodoTernario(5 , left=NodoTernario(2)), NodoTernario(5), NodoTernario(2)) , None , NodoTernario(5))\n",
        "print(arbol12.left.rigth.data)\n",
        "print(arbol12.data)\n",
        "print(arbol12.left.center.data)\n",
        "print(arbol12.rigth.left)\n",
        "print(arbol12.left.left.left.data)\n",
        "print(\"\\nLlamando al mismo arbol, pero de otro modo\")\n",
        "ejemplo = arbol12.left.left.left.data\n",
        "print(ejemplo)\n",
        "\n",
        "aux = arbol12\n",
        "while( aux.left != None ):\n",
        "  aux = aux.left\n",
        "print(aux.data)\n"
      ],
      "execution_count": 6,
      "outputs": [
        {
          "output_type": "stream",
          "name": "stdout",
          "text": [
            "H\n",
            "2\n",
            "4\n",
            "5\n",
            "None\n",
            "2\n",
            "\n",
            "Llamando al mismo arbol, pero de otro modo\n",
            "2\n",
            "2\n"
          ]
        }
      ]
    },
    {
      "cell_type": "code",
      "metadata": {
        "colab": {
          "base_uri": "https://localhost:8080/"
        },
        "id": "whUUOUx5HMkr",
        "outputId": "329e2c96-e417-44d9-b56f-20991d6f2690"
      },
      "source": [
        "root = NodoBinario(\"Santi\" , None , NodoBinario(\"Jesus\", None , NodoBinario(\"Pedro\" , None , NodoBinario(\"Pedro Jr\"))))\n",
        "print(root.rigth.data)\n",
        "print(root.rigth.rigth.rigth.data)"
      ],
      "execution_count": 9,
      "outputs": [
        {
          "output_type": "stream",
          "name": "stdout",
          "text": [
            "Jesus\n",
            "Pedro Jr\n"
          ]
        }
      ]
    }
  ]
}
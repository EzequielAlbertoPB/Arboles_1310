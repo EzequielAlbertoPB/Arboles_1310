{
  "nbformat": 4,
  "nbformat_minor": 0,
  "metadata": {
    "colab": {
      "name": "Árboles.ipynb",
      "provenance": []
    },
    "kernelspec": {
      "name": "python3",
      "display_name": "Python 3"
    },
    "language_info": {
      "name": "python"
    }
  },
  "cells": [
    {
      "cell_type": "code",
      "metadata": {
        "id": "kl2y_tap24ly"
      },
      "source": [
        "class NodoBinario:\n",
        "  def __init__( self , value , left=None , rigth=None ):\n",
        "    self.data = value\n",
        "    self.left = left\n",
        "    self.rigth = rigth\n",
        "\n",
        "class NodoTernario:\n",
        "  def __init__(self , value, left=None , center=None , rigth=None):\n",
        "    self.data = value\n",
        "    self.left = left\n",
        "    self.center = center\n",
        "    self.rigth = rigth\n"
      ],
      "execution_count": 1,
      "outputs": []
    },
    {
      "cell_type": "code",
      "metadata": {
        "colab": {
          "base_uri": "https://localhost:8080/"
        },
        "id": "Hf8DPSd-DAzd",
        "outputId": "b9efb9f8-4443-4a54-ed76-7ac7aa724148"
      },
      "source": [
        "arbol1 = NodoBinario( \"R\" , NodoBinario(\"C\"), NodoBinario(\"H\"))\n",
        "print(arbol1.rigth.data)\n",
        "\n",
        "arbol12 = NodoTernario( 4 , NodoTernario(3 , NodoTernario(5 , left=NodoTernario(2)), NodoTernario(5), NodoTernario(2)) , None , NodoTernario(5))\n",
        "print(arbol12.left.rigth.data)\n",
        "print(arbol12.data)\n",
        "print(arbol12.left.center.data)\n",
        "print(arbol12.rigth.left)\n",
        "print(arbol12.left.left.left.data)\n",
        "print(\"\\nLlamando al mismo arbol, pero de otro modo\")\n",
        "ejemplo = arbol12.left.left.left.data\n",
        "print(ejemplo)\n",
        "\n",
        "aux = arbol12\n",
        "while( aux.left != None ):\n",
        "  aux = aux.left\n",
        "print(aux.data)\n"
      ],
      "execution_count": 2,
      "outputs": [
        {
          "output_type": "stream",
          "name": "stdout",
          "text": [
            "H\n",
            "2\n",
            "4\n",
            "5\n",
            "None\n",
            "2\n",
            "\n",
            "Llamando al mismo arbol, pero de otro modo\n",
            "2\n",
            "2\n"
          ]
        }
      ]
    },
    {
      "cell_type": "code",
      "metadata": {
        "colab": {
          "base_uri": "https://localhost:8080/"
        },
        "id": "whUUOUx5HMkr",
        "outputId": "107ffdcc-3327-405d-a1b4-815bccae1271"
      },
      "source": [
        "root = NodoBinario(\"Santi\" , None , NodoBinario(\"Jesus\", None , NodoBinario(\"Pedro\" , None , NodoBinario(\"Pedro Jr\"))))\n",
        "print(root.rigth.data)\n",
        "print(root.rigth.rigth.rigth.data)"
      ],
      "execution_count": 3,
      "outputs": [
        {
          "output_type": "stream",
          "name": "stdout",
          "text": [
            "Jesus\n",
            "Pedro Jr\n"
          ]
        }
      ]
    },
    {
      "cell_type": "code",
      "metadata": {
        "id": "PIK9IRC516pJ"
      },
      "source": [
        "class NodoBinario:\n",
        "  def __init__( self , value , left=None , rigth=None ):\n",
        "    self.data = value\n",
        "    self.left = left\n",
        "    self.rigth = rigth\n",
        "\n",
        "class BinarySearchTree:\n",
        "  def __init__( self ):\n",
        "    self.root = None\n",
        "\n",
        "  def insert( self , value ):\n",
        "    if self.root == None:\n",
        "      self.root = NodoBinario( value )\n",
        "    else: \n",
        "      self.__insert_Nodo( self.root , value )\n",
        "\n",
        "  def __insert_Nodo( self , nodo , value ):\n",
        "    if nodo.data == value:\n",
        "      pass\n",
        "    elif value < nodo.data:\n",
        "      if nodo.left == None:\n",
        "        nodo.left = NodoBinario( value )\n",
        "      else:\n",
        "        self.__insert_Nodo( nodo.left , value )\n",
        "    else:\n",
        "      if nodo.rigth  == None:\n",
        "        nodo.rigth = NodoBinario( value )\n",
        "      else:\n",
        "        self.__insert_Nodo( nodo.rigth , value )\n",
        "\n",
        "  def transversal( self , formato = \"posorden\" ):\n",
        "    if formato == \"posorden\":\n",
        "      self.recorrido_pos( self.root )\n",
        "    elif formato ==\"preorden\":\n",
        "      self.recorrido_pre( self.root )\n",
        "    else: ##inorden\n",
        "      self.recorrido_in( self.root )\n",
        "    print()\n",
        "\n",
        "  def recorrido_pos( self , nodo ):\n",
        "    if nodo != None:\n",
        "      self.recorrido_pos( nodo.left )\n",
        "      self.recorrido_pos( nodo.rigth )\n",
        "      print( str(nodo.data) , end=\" , \")\n",
        "\n",
        "  def recorrido_pre( self , nodo ):\n",
        "    if nodo != None:\n",
        "      print( str(nodo.data) , end=\" , \")\n",
        "      self.recorrido_pre( nodo.left )\n",
        "      self.recorrido_pre( nodo.rigth )\n",
        "\n",
        "  def recorrido_in( self , nodo ):\n",
        "    if nodo != None:\n",
        "      self.recorrido_in( nodo.left )\n",
        "      print( str(nodo.data) , end=\" , \")\n",
        "      self.recorrido_in( nodo.rigth )\n",
        "     \n",
        "  def search( self , value ):\n",
        "    if self.root == None:\n",
        "      print(\"El árbol está vacio\")\n",
        "      return None\n",
        "    else:\n",
        "      self.__search( self.root , value )\n",
        "\n",
        "  def _search( self , nodo , value ):\n",
        "    if nodo.data == None:\n",
        "      print(\"El dato noexiste en el árbol\")\n",
        "      return None\n",
        "    elif nodo.data == value:\n",
        "      print(\"Dato encontrado\")\n",
        "    elif value < nodo.data:\n",
        "      return self.buscar( nodo.left , value )\n",
        "    else:\n",
        "      return self.buscar( nodo.rigth , value )"
      ],
      "execution_count": 34,
      "outputs": []
    },
    {
      "cell_type": "code",
      "metadata": {
        "colab": {
          "base_uri": "https://localhost:8080/"
        },
        "id": "EIAy94Io5_wu",
        "outputId": "c728b70b-d7c5-454f-9c57-79d5e380c20e"
      },
      "source": [
        "arbol = BinarySearchTree()\n",
        "arbol.insert(60)\n",
        "arbol.insert(30)\n",
        "arbol.insert(15)\n",
        "arbol.insert(40)\n",
        "arbol.transversal(\"posorden\")\n",
        "arbol.transversal(\"preorden\")\n",
        "arbol.transversal(\"inorden\")"
      ],
      "execution_count": 35,
      "outputs": [
        {
          "output_type": "stream",
          "name": "stdout",
          "text": [
            "15 , 40 , 30 , 60 , \n",
            "60 , 30 , 15 , 40 , \n",
            "15 , 30 , 40 , 60 , \n"
          ]
        }
      ]
    }
  ]
}